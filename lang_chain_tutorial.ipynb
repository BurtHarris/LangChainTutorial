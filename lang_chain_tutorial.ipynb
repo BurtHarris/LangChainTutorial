{
 "cells": [
  {
   "cell_type": "markdown",
   "metadata": {},
   "source": [
    "## Calling Prompts with LLMS"
   ]
  },
  {
   "cell_type": "code",
   "execution_count": 1,
   "metadata": {},
   "outputs": [],
   "source": [
    "import config\n",
    "\n",
    "config.load_key(\"OPENAI_API_KEY\")"
   ]
  },
  {
   "cell_type": "code",
   "execution_count": 2,
   "metadata": {},
   "outputs": [],
   "source": [
    "# Prompts and LLMs\n",
    "\n",
    "from langchain.llms import OpenAI\n",
    "\n",
    "# temperatue is a value between 0 and 1\n",
    "# - closer to 0 makes the OpenAI response more deterministic\n",
    "# - closer to 1 makes the OpenAI response more creative and unpredictable\n",
    "# default Open AI model is text-davinci-003\n",
    "llm_oai = OpenAI(temperature=0)\n",
    "llm_oai_high_temp = OpenAI(temperature=0.9)\n",
    "\n",
    "prompt = \"What would a good company name be for a company that makes colorful socks?\"\n",
    "\n",
    "response = llm_oai_high_temp(prompt)"
   ]
  },
  {
   "cell_type": "code",
   "execution_count": 3,
   "metadata": {},
   "outputs": [
    {
     "name": "stdout",
     "output_type": "stream",
     "text": [
      "\n",
      "\n",
      "\"Rainbow Socks Co.\" or \"Vibrant Feet Co.\"\n"
     ]
    }
   ],
   "source": [
    "print(response)"
   ]
  },
  {
   "cell_type": "code",
   "execution_count": 4,
   "metadata": {},
   "outputs": [],
   "source": [
    "result = llm_oai_high_temp.generate([prompt]*5)"
   ]
  },
  {
   "cell_type": "code",
   "execution_count": 5,
   "metadata": {},
   "outputs": [
    {
     "name": "stdout",
     "output_type": "stream",
     "text": [
      "\n",
      "\n",
      "\"Rainbow Socks Co.\" or \"Vibrant Feet Co.\"\n",
      "\n",
      "\n",
      "\"Rainbow Socks Co.\" or \"Vibrant Feet Co.\"\n",
      "\n",
      "\n",
      "\"Rainbow Socks Co.\" or \"Vibrant Feet Co.\"\n",
      "\n",
      "\n",
      "\"Rainbow Socks Co.\" or \"Vibrant Feet Co.\"\n",
      "\n",
      "\n",
      "\"Rainbow Socks Co.\" or \"Vibrant Feet Co.\"\n"
     ]
    }
   ],
   "source": [
    "for company_name in result.generations:\n",
    "    print(company_name[0].text)"
   ]
  },
  {
   "cell_type": "markdown",
   "metadata": {},
   "source": [
    "## Using Different Large Language Models"
   ]
  },
  {
   "cell_type": "code",
   "execution_count": 6,
   "metadata": {},
   "outputs": [],
   "source": [
    "config.load_key(\"HUGGINGFACEHUB_API_TOKEN\")"
   ]
  },
  {
   "cell_type": "code",
   "execution_count": 7,
   "metadata": {},
   "outputs": [
    {
     "name": "stderr",
     "output_type": "stream",
     "text": [
      "/home/vscode/.local/lib/python3.11/site-packages/huggingface_hub/utils/_deprecation.py:131: FutureWarning: 'InferenceApi' (from 'huggingface_hub.inference_api') is deprecated and will be removed from version '1.0'. `InferenceApi` client is deprecated in favor of the more feature-complete `InferenceClient`. Check out this guide to learn how to convert your script to use it: https://huggingface.co/docs/huggingface_hub/guides/inference#legacy-inferenceapi-client.\n",
      "  warnings.warn(warning_message, FutureWarning)\n"
     ]
    }
   ],
   "source": [
    "from langchain import HuggingFaceHub\n",
    "\n",
    "llm_hf = HuggingFaceHub(repo_id=\"google/flan-t5-base\", model_kwargs={\"temperature\": 0, \"max_length\": 64})\n",
    "\n",
    "prompt_2 = \"What are good fitness tips?\"\n",
    "\n",
    "response_2 = llm_hf(prompt_2)"
   ]
  },
  {
   "cell_type": "code",
   "execution_count": 8,
   "metadata": {},
   "outputs": [
    {
     "name": "stdout",
     "output_type": "stream",
     "text": [
      "Exercise for at least 30 minutes a day.\n"
     ]
    }
   ],
   "source": [
    "print(response_2)"
   ]
  },
  {
   "cell_type": "markdown",
   "metadata": {},
   "source": [
    "## Prompt Templating and Chaining"
   ]
  },
  {
   "cell_type": "code",
   "execution_count": 9,
   "metadata": {},
   "outputs": [
    {
     "name": "stdout",
     "output_type": "stream",
     "text": [
      "What would a good company name be for a company that makes colorful socks?\n"
     ]
    }
   ],
   "source": [
    "# Prompt Template: Reproducible way to generate a prompt\n",
    "from langchain import PromptTemplate\n",
    "\n",
    "template = \"You are a naming consultant for new companies. What is a good name for a company that makes {product}?\"\n",
    "\n",
    "prompt_3 = PromptTemplate.from_template(template)\n",
    "print(prompt.format(product=\"colorful socks\"))"
   ]
  },
  {
   "cell_type": "code",
   "execution_count": 10,
   "metadata": {},
   "outputs": [],
   "source": [
    "# LLM Chain = Prompt + LLM\n",
    "from langchain import LLMChain\n",
    "\n",
    "chain = LLMChain(llm=llm_oai, prompt=prompt_3)"
   ]
  },
  {
   "cell_type": "code",
   "execution_count": 11,
   "metadata": {},
   "outputs": [
    {
     "name": "stdout",
     "output_type": "stream",
     "text": [
      "\n",
      "\n",
      "\"Rainbow Threads\"\n"
     ]
    }
   ],
   "source": [
    "response_3 = chain.run(\"colorful socks\")\n",
    "\n",
    "print(response_3)"
   ]
  },
  {
   "cell_type": "code",
   "execution_count": 12,
   "metadata": {},
   "outputs": [],
   "source": [
    "template_2 = \"You are a naming consultant for new companies. What is a good name for a {company} that makes {product}?\"\n",
    "prompt_4 = PromptTemplate.from_template(template_2)\n",
    "\n",
    "chain_2 = LLMChain(llm=llm_oai, prompt=prompt_4)"
   ]
  },
  {
   "cell_type": "code",
   "execution_count": 13,
   "metadata": {},
   "outputs": [
    {
     "name": "stdout",
     "output_type": "stream",
     "text": [
      "\n",
      "\n",
      "\"Rainbow Threads Co.\"\n"
     ]
    }
   ],
   "source": [
    "response_4 = chain_2.run({\n",
    "    \"company\":\"ABC Startup\",\n",
    "    \"product\":\"colorful socks\",\n",
    "})\n",
    "\n",
    "print(response_4)"
   ]
  },
  {
   "cell_type": "markdown",
   "metadata": {},
   "source": [
    "## Using Simple Sequential Chaines"
   ]
  },
  {
   "cell_type": "code",
   "execution_count": 14,
   "metadata": {},
   "outputs": [
    {
     "name": "stdout",
     "output_type": "stream",
     "text": [
      "\n",
      "\n",
      "\u001b[1m> Entering new SimpleSequentialChain chain...\u001b[0m\n",
      "\u001b[36;1m\u001b[1;3m\n",
      "\n",
      "\"Rainbow Threads\"\u001b[0m\n",
      "\u001b[33;1m\u001b[1;3m\n",
      "\n",
      "\"Color your world with Rainbow Threads!\"\u001b[0m\n",
      "\n",
      "\u001b[1m> Finished chain.\u001b[0m\n"
     ]
    }
   ],
   "source": [
    "from langchain.chains import SimpleSequentialChain\n",
    "\n",
    "template_3 = \"Write a catch phrase for the following company: {company_name}\"\n",
    "prompt_5 = PromptTemplate.from_template(template_3)\n",
    "chain_3 = LLMChain(llm=llm_oai, prompt=prompt_5)\n",
    "\n",
    "overall_chain = SimpleSequentialChain(chains=[chain, chain_3], verbose=True)\n",
    "\n",
    "catchphrase = overall_chain.run(\"colorful socks\")"
   ]
  },
  {
   "cell_type": "code",
   "execution_count": 15,
   "metadata": {},
   "outputs": [
    {
     "name": "stdout",
     "output_type": "stream",
     "text": [
      "\n",
      "\n",
      "\"Color your world with Rainbow Threads!\"\n"
     ]
    }
   ],
   "source": [
    "print(catchphrase)"
   ]
  },
  {
   "cell_type": "markdown",
   "metadata": {},
   "source": [
    "## Action Agents"
   ]
  },
  {
   "cell_type": "code",
   "execution_count": 16,
   "metadata": {},
   "outputs": [],
   "source": [
    "# Agent interfaces provide a flexible way to chain calls to LLMs and other tools based on user input\n",
    "# Two types of agents:\n",
    "# - Action Agents: at each timestep, decide on the next action using the outputs of all previous actions\n",
    "# - Plan-and-execute agents: decide on the full sequence of actions up front, then execute them all without updating the plan\n",
    "\n",
    "# Look at the following prompt.\n",
    "# The AI is very likely to get the second question wrong and somewhat likely to get the first one incorrect\n",
    "# We can use agent tools to answer them both correctly\n",
    "prompt_6 = \"When was the 3rd president of the United States born? What is the year raised to the power of 3?\""
   ]
  },
  {
   "cell_type": "code",
   "execution_count": 17,
   "metadata": {},
   "outputs": [
    {
     "name": "stdout",
     "output_type": "stream",
     "text": [
      "[   'requests',\n",
      "    'requests_get',\n",
      "    'requests_post',\n",
      "    'requests_patch',\n",
      "    'requests_put',\n",
      "    'requests_delete',\n",
      "    'terminal',\n",
      "    'sleep',\n",
      "    'wolfram-alpha',\n",
      "    'google-search',\n",
      "    'google-search-results-json',\n",
      "    'searx-search-results-json',\n",
      "    'bing-search',\n",
      "    'metaphor-search',\n",
      "    'ddg-search',\n",
      "    'google-lens',\n",
      "    'google-serper',\n",
      "    'google-scholar',\n",
      "    'google-finance',\n",
      "    'google-trends',\n",
      "    'google-jobs',\n",
      "    'google-serper-results-json',\n",
      "    'searchapi',\n",
      "    'searchapi-results-json',\n",
      "    'serpapi',\n",
      "    'dalle-image-generator',\n",
      "    'twilio',\n",
      "    'searx-search',\n",
      "    'merriam-webster',\n",
      "    'wikipedia',\n",
      "    'arxiv',\n",
      "    'golden-query',\n",
      "    'pubmed',\n",
      "    'human',\n",
      "    'awslambda',\n",
      "    'stackexchange',\n",
      "    'sceneXplain',\n",
      "    'graphql',\n",
      "    'openweathermap-api',\n",
      "    'dataforseo-api-search',\n",
      "    'dataforseo-api-search-json',\n",
      "    'eleven_labs_text2speech',\n",
      "    'google_cloud_texttospeech',\n",
      "    'reddit_search',\n",
      "    'news-api',\n",
      "    'tmdb-api',\n",
      "    'podcast-api',\n",
      "    'memorize',\n",
      "    'llm-math',\n",
      "    'open-meteo-api']\n"
     ]
    }
   ],
   "source": [
    "import pprint\n",
    "from langchain.agents import get_all_tool_names\n",
    "\n",
    "pp = pprint.PrettyPrinter(indent=4)\n",
    "\n",
    "# Print all available tools available in LangChain\n",
    "pp.pprint(get_all_tool_names())"
   ]
  },
  {
   "cell_type": "code",
   "execution_count": 18,
   "metadata": {},
   "outputs": [
    {
     "name": "stdout",
     "output_type": "stream",
     "text": [
      "\n",
      "\n",
      "\u001b[1m> Entering new AgentExecutor chain...\u001b[0m\n",
      "\u001b[32;1m\u001b[1;3m I should use Wikipedia to find information about the 3rd president of the United States and use a calculator to raise a number to a power.\n",
      "Action: Wikipedia\n",
      "Action Input: 3rd president of the United States\u001b[0m\n",
      "Observation: \u001b[36;1m\u001b[1;3mPage: Thomas Jefferson\n",
      "Summary: Thomas Jefferson (April 13, 1743 – July 4, 1826) was an American statesman, diplomat, lawyer, architect, philosopher, and Founding Father who served as the third president of the United States from 1801 to 1809. He was the primary author of the Declaration of Independence. Following the American Revolutionary War and prior to becoming president in 1801, Jefferson was the nation's first U.S. secretary of state under George Washington and then the nation's second vice president under John Adams.\n",
      "During the American Revolution, Jefferson represented Virginia at the Second Continental Congress and served as the second governor of Virginia from 1779 to 1781. In 1785, Congress appointed Jefferson U.S. minister to France, where he served from 1785 to 1789. President Washington then appointed Jefferson the nation's first secretary of state, where he served from 1790 to 1793. During this time, in the early 1790s, Jefferson and James Madison organized the Democratic-Republican Party to oppose the Federalist Party during the formation of the nation's First Party System. Jefferson and Federalist John Adams became both friends and political rivals. In the 1796 U.S. presidential election between the two, Jefferson came in second, which made him Adams' vice president under the electoral laws of the time. Four years later, in the 1800 presidential election, Jefferson again challenged Adams, and won the presidency. In 1804, Jefferson was reelected overwhelmingly to a second term.\n",
      "As president, Jefferson assertively defended the nation's shipping and trade interests against Barbary pirates and aggressive British trade policies. Beginning in 1803, he promoted a western expansionist policy with the Louisiana Purchase, which doubled the nation's geographic size. To make room for settlement, Jefferson began the process of Indian tribal removal from the newly acquired territory. As a result of peace negotiations with France, Jefferson was able to reduce military forces and expenditures. In his second presidential term, Jefferson was beset by difficulties at home, including the trial of his former vice president Aaron Burr. In 1807, American foreign trade was diminished when Jefferson implemented the Embargo Act to defend the nation's industries from British threats to U.S. shipping.\n",
      "Presidential scholars and historians generally praise Jefferson's public achievements, including his advocacy of religious freedom and tolerance, his peaceful acquisition of the Louisiana Territory from France, and his leadership in supporting the Lewis and Clark Expedition. Jefferson is consistently ranked among the top ten US presidents, though his relationship with slavery continues to be debated. Jefferson was a slave owner, but condemned the slave trade in his draft of the Declaration of Independence and signed the Act Prohibiting Importation of Slaves in 1807. Since the 1790s, he was rumored to have had children by his slave Sally Hemings; according to scholarly consensus, Jefferson probably fathered at least six children with Hemings.  Jefferson's writings and advocacy for human rights, including freedom of thought, speech, and religion, served as substantial inspirations to the American Revolution and subsequent Revolutionary War in which the Thirteen Colonies succeeded in breaking from British America and establishing the United States as a free and sovereign nation. Jefferson was a leading proponent of democracy, republicanism, and individual rights, and produced formative documents and decisions at the state, national, and international levels.\n",
      "\n",
      "\n",
      "\n",
      "Page: President of the United States\n",
      "Summary: The president of the United States (POTUS) is the head of state and head of government of the United States of America. The president directs the executive branch of the federal government and is the commander-in-chief of the United States Armed Forces.\n",
      "The power of the presidency has grown substantially since the first president, George Wa\u001b[0m\n",
      "Thought:\u001b[32;1m\u001b[1;3m I should use a calculator to raise a number to a power.\n",
      "Action: Calculator\n",
      "Action Input: 1743\u001b[0m\n",
      "Observation: \u001b[33;1m\u001b[1;3mAnswer: 1743\u001b[0m\n",
      "Thought:\u001b[32;1m\u001b[1;3m I should use a calculator to raise a number to a power.\n",
      "Action: Calculator\n",
      "Action Input: 1743^3\u001b[0m\n",
      "Observation: \u001b[33;1m\u001b[1;3mAnswer: 5295319407\u001b[0m\n",
      "Thought:\u001b[32;1m\u001b[1;3m I now know the final answer\n",
      "Final Answer: 5295319407\u001b[0m\n",
      "\n",
      "\u001b[1m> Finished chain.\u001b[0m\n"
     ]
    },
    {
     "data": {
      "text/plain": [
       "'5295319407'"
      ]
     },
     "execution_count": 18,
     "metadata": {},
     "output_type": "execute_result"
    }
   ],
   "source": [
    "from langchain.agents import load_tools, initialize_agent\n",
    "\n",
    "tools = load_tools([\"wikipedia\", \"llm-math\"], llm=llm_oai)\n",
    "\n",
    "# Zero-shot ReAct is an agent type that uses the ReAct framework that determines\n",
    "# which tool to use based solely on the tools description\n",
    "agent = initialize_agent(tools, llm_oai, agent=\"zero-shot-react-description\", verbose=True)\n",
    "\n",
    "agent.run(prompt_6)\n"
   ]
  },
  {
   "cell_type": "markdown",
   "metadata": {},
   "source": [
    "## Human as Tool"
   ]
  },
  {
   "cell_type": "code",
   "execution_count": 19,
   "metadata": {},
   "outputs": [],
   "source": [
    "from langchain.agents import AgentType"
   ]
  },
  {
   "cell_type": "code",
   "execution_count": 20,
   "metadata": {},
   "outputs": [],
   "source": [
    "tools_2 = load_tools([\"human\"])\n",
    "\n",
    "agent_2 = initialize_agent(\n",
    "    tools_2,\n",
    "    llm_oai,\n",
    "    agent=AgentType.ZERO_SHOT_REACT_DESCRIPTION,\n",
    "    verbose=True\n",
    ")"
   ]
  },
  {
   "cell_type": "code",
   "execution_count": 21,
   "metadata": {},
   "outputs": [],
   "source": [
    "# agent_2.run(\"What's my friend Andi's surname?\")"
   ]
  },
  {
   "cell_type": "markdown",
   "metadata": {},
   "source": [
    "## Plan and Execute Agents"
   ]
  },
  {
   "cell_type": "code",
   "execution_count": 22,
   "metadata": {},
   "outputs": [],
   "source": [
    "# First plan the series of steps, and then execute them all in series\n",
    "\n",
    "prompt_7 = \"Where are the next summer olympics going to be hosted? What is the population of that country raised to the 0.43 power?\"\n",
    "\n",
    "# The Agent needs to follow something like these steps:\n",
    "# 1. Search for location\n",
    "# 2. Identify the country\n",
    "# 3. Search for the population of the country\n",
    "# 4. Raise the population to 0.43"
   ]
  },
  {
   "cell_type": "code",
   "execution_count": 23,
   "metadata": {},
   "outputs": [],
   "source": [
    "config.load_key(\"SERPAPI_API_KEY\")"
   ]
  },
  {
   "cell_type": "code",
   "execution_count": 24,
   "metadata": {},
   "outputs": [],
   "source": [
    "from langchain.chat_models import ChatOpenAI\n",
    "from langchain_experimental.plan_and_execute import PlanAndExecute, load_agent_executor, load_chat_planner\n",
    "from langchain import SerpAPIWrapper, LLMMathChain, WikipediaAPIWrapper\n",
    "from langchain.agents.tools import Tool\n",
    "\n",
    "llm_math_chain = LLMMathChain.from_llm(llm=llm_oai, verbose=True)\n",
    "search = SerpAPIWrapper()\n",
    "wikipedia = WikipediaAPIWrapper()\n",
    "\n",
    "tools = [\n",
    "    Tool(\n",
    "        name=\"Search\",\n",
    "        func=search.run,\n",
    "        description=\"useful for when you need to answer questions about current events\",\n",
    "    ),\n",
    "    Tool(\n",
    "        name=\"Wikipedia\",\n",
    "        func=wikipedia.run,\n",
    "        description=\"useful for when you need to look up facts and statistics\",\n",
    "    ),\n",
    "    Tool(\n",
    "        name=\"Calculator\",\n",
    "        func=llm_math_chain.run,\n",
    "        description=\"useful for when you need to answer questions about math\",\n",
    "    ),\n",
    "]"
   ]
  },
  {
   "cell_type": "code",
   "execution_count": 25,
   "metadata": {},
   "outputs": [],
   "source": [
    "# planner and executor should use memory i.e. chat models to leverage previous information\n",
    "model = ChatOpenAI(temperature=0)\n",
    "planner = load_chat_planner(model)\n",
    "executor = load_agent_executor(model, tools, verbose=True)\n",
    "agent = PlanAndExecute(planner=planner, executor=executor, verbose=True)"
   ]
  },
  {
   "cell_type": "code",
   "execution_count": 27,
   "metadata": {},
   "outputs": [],
   "source": [
    "# agent.run(prompt_7)"
   ]
  },
  {
   "cell_type": "markdown",
   "metadata": {},
   "source": [
    "## Memory and Chat Bots"
   ]
  },
  {
   "cell_type": "code",
   "execution_count": 31,
   "metadata": {},
   "outputs": [
    {
     "name": "stdout",
     "output_type": "stream",
     "text": [
      "\n",
      "\n",
      "\u001b[1m> Entering new ConversationChain chain...\u001b[0m\n",
      "Prompt after formatting:\n",
      "\u001b[32;1m\u001b[1;3mThe following is a friendly conversation between a human and an AI. The AI is talkative and provides lots of specific details from its context. If the AI does not know the answer to a question, it truthfully says it does not know.\n",
      "\n",
      "Current conversation:\n",
      "\n",
      "Human: Hi there!\n",
      "AI:\u001b[0m\n",
      "\n",
      "\u001b[1m> Finished chain.\u001b[0m\n",
      " Hello! It's nice to meet you. I am an AI created by OpenAI. I am constantly learning and improving my abilities through machine learning algorithms. How can I assist you today?\n",
      "\n",
      "\n",
      "\u001b[1m> Entering new ConversationChain chain...\u001b[0m\n",
      "Prompt after formatting:\n",
      "\u001b[32;1m\u001b[1;3mThe following is a friendly conversation between a human and an AI. The AI is talkative and provides lots of specific details from its context. If the AI does not know the answer to a question, it truthfully says it does not know.\n",
      "\n",
      "Current conversation:\n",
      "Human: Hi there!\n",
      "AI:  Hello! It's nice to meet you. I am an AI created by OpenAI. I am constantly learning and improving my abilities through machine learning algorithms. How can I assist you today?\n",
      "Human: Can we talk about the weather?\n",
      "AI:\u001b[0m\n",
      "\n",
      "\u001b[1m> Finished chain.\u001b[0m\n",
      " Of course! I have access to real-time weather data from various sources, including satellites and weather stations. Would you like me to provide you with the current weather conditions in your area?\n",
      "\n",
      "\n",
      "\u001b[1m> Entering new ConversationChain chain...\u001b[0m\n",
      "Prompt after formatting:\n",
      "\u001b[32;1m\u001b[1;3mThe following is a friendly conversation between a human and an AI. The AI is talkative and provides lots of specific details from its context. If the AI does not know the answer to a question, it truthfully says it does not know.\n",
      "\n",
      "Current conversation:\n",
      "Human: Hi there!\n",
      "AI:  Hello! It's nice to meet you. I am an AI created by OpenAI. I am constantly learning and improving my abilities through machine learning algorithms. How can I assist you today?\n",
      "Human: Can we talk about the weather?\n",
      "AI:  Of course! I have access to real-time weather data from various sources, including satellites and weather stations. Would you like me to provide you with the current weather conditions in your area?\n",
      "Human: It's a beautiful day\n",
      "AI:\u001b[0m\n",
      "\n",
      "\u001b[1m> Finished chain.\u001b[0m\n",
      " That's great to hear! According to my data, the current temperature in your area is 75 degrees Fahrenheit with clear skies and a light breeze. The humidity is at 50% and the UV index is moderate at 5. Is there anything else you would like to know about the weather?\n"
     ]
    }
   ],
   "source": [
    "from langchain import ConversationChain\n",
    "\n",
    "conversation = ConversationChain(llm=llm_oai, verbose=True)\n",
    "\n",
    "print(conversation.predict(input=\"Hi there!\"))\n",
    "print(conversation.predict(input=\"Can we talk about the weather?\"))\n",
    "print(conversation.predict(input=\"It's a beautiful day\"))"
   ]
  },
  {
   "cell_type": "code",
   "execution_count": 33,
   "metadata": {},
   "outputs": [],
   "source": [
    "# Interactive Loop Example\n",
    "\n",
    "# print(\"Welcome to your AI Chatbot! What's on your mind?\")\n",
    "# conversation = ConversationChain(llm=llm_oai, verbose=True)\n",
    "# for _ in range(0,3):\n",
    "#     human_input = input(\"You: \")\n",
    "#     ai_response = conversation.predict(input=human_input)\n",
    "#     print(f\"AI: {ai_response}\")"
   ]
  },
  {
   "cell_type": "markdown",
   "metadata": {},
   "source": [
    "## Storing and Retrieving Chat History"
   ]
  },
  {
   "cell_type": "code",
   "execution_count": 36,
   "metadata": {},
   "outputs": [
    {
     "name": "stdout",
     "output_type": "stream",
     "text": [
      "[{'type': 'human', 'data': {'content': \"Hello! Let's talk about giraffes.\", 'additional_kwargs': {}, 'type': 'human', 'example': False}}, {'type': 'ai', 'data': {'content': \"Hi! I'm down to talk about giraffes.\", 'additional_kwargs': {}, 'type': 'ai', 'example': False}}]\n"
     ]
    }
   ],
   "source": [
    "from langchain.memory import ChatMessageHistory, ConversationBufferMemory\n",
    "from langchain.schema import messages_from_dict, messages_to_dict\n",
    "\n",
    "history = ChatMessageHistory()\n",
    "history.add_user_message(\"Hello! Let's talk about giraffes.\")\n",
    "history.add_ai_message(\"Hi! I'm down to talk about giraffes.\")\n",
    "\n",
    "cache = messages_to_dict(history.messages)\n",
    "print(cache)"
   ]
  },
  {
   "cell_type": "code",
   "execution_count": 38,
   "metadata": {},
   "outputs": [],
   "source": [
    "messages = messages_from_dict(cache)\n",
    "\n",
    "history = ChatMessageHistory(messages=messages)\n",
    "buffer = ConversationBufferMemory(chat_memory=history)\n",
    "conversation_2 = ConversationChain(llm=llm_oai, memory=buffer, verbose=True)"
   ]
  },
  {
   "cell_type": "code",
   "execution_count": 40,
   "metadata": {},
   "outputs": [
    {
     "name": "stdout",
     "output_type": "stream",
     "text": [
      "\n",
      "\n",
      "\u001b[1m> Entering new ConversationChain chain...\u001b[0m\n",
      "Prompt after formatting:\n",
      "\u001b[32;1m\u001b[1;3mThe following is a friendly conversation between a human and an AI. The AI is talkative and provides lots of specific details from its context. If the AI does not know the answer to a question, it truthfully says it does not know.\n",
      "\n",
      "Current conversation:\n",
      "Human: Hello! Let's talk about giraffes.\n",
      "AI: Hi! I'm down to talk about giraffes.\n",
      "Human: What are they?\n",
      "AI:\u001b[0m\n",
      "\n",
      "\u001b[1m> Finished chain.\u001b[0m\n",
      " Giraffes are tall, long-necked mammals that are native to the African savannah. They are the tallest land animals in the world, with adult males reaching heights of up to 18 feet. They have distinctive spotted coats and long, dark tongues that they use to reach leaves on tall trees.\n"
     ]
    }
   ],
   "source": [
    "print(conversation_2.predict(input=\"What are they?\"))"
   ]
  },
  {
   "cell_type": "markdown",
   "metadata": {},
   "source": [
    "## Document Loading and Retrieval Chains"
   ]
  },
  {
   "cell_type": "code",
   "execution_count": 42,
   "metadata": {},
   "outputs": [
    {
     "name": "stdout",
     "output_type": "stream",
     "text": [
      "[Document(page_content='The United States Capitol\\n\\nMr. Speaker. Madam Vice President. Our First Lady and Second Gentleman.\\n\\nMembers of Congress and the Cabinet. Leaders of our military.\\n\\nMr. Chief Justice, Associate Justices, and retired Justices of the Supreme Court.\\n\\nAnd you, my fellow Americans.\\n\\nI start tonight by congratulating the members of the 118th Congress and the new Speaker of the House, Kevin McCarthy.\\n\\nMr. Speaker, I look forward to working together.\\n\\nI also want to congratulate the new leader of the House Democrats and the first Black House Minority Leader in history, Hakeem Jeffries.\\n\\nCongratulations to the longest serving Senate Leader in history, Mitch McConnell.\\n\\nAnd congratulations to Chuck Schumer for another term as Senate Majority Leader, this time with an even bigger majority.\\n\\nAnd I want to give special recognition to someone who I think will be considered the greatest Speaker in the history of this country, Nancy Pelosi.\\n\\nThe story of America is a story of progress and resilience. Of always moving forward. Of never giving up.\\n\\nA story that is unique among all nations.\\n\\nWe are the only country that has emerged from every crisis stronger than when we entered it.\\n\\nThat is what we are doing again.\\n\\nTwo years ago, our economy was reeling.\\n\\nAs I stand here tonight, we have created a record 12 million new jobs, more jobs created in two years than any president has ever created in four years.\\n\\nTwo years ago, COVID had shut down our businesses, closed our schools, and robbed us of so much.\\n\\nToday, COVID no longer controls our lives.\\n\\nAnd two years ago, our democracy faced its greatest threat since the Civil War.\\n\\nToday, though bruised, our democracy remains unbowed and unbroken.\\n\\nAs we gather here tonight, we are writing the next chapter in the great American story, a story of progress and resilience. When world leaders ask me to define America, I define our country in one word: Possibilities.\\n\\nYou know, we’re often told that Democrats and Republicans can’t work together.\\n\\nBut over these past two years, we proved the cynics and the naysayers wrong.\\n\\nYes, we disagreed plenty. And yes, there were times when Democrats had to go it alone.\\n\\nBut time and again, Democrats and Republicans came together.\\n\\nCame together to defend a stronger and safer Europe.\\n\\nCame together to pass a once-in-a-generation infrastructure law, building bridges to connect our nation and people.\\n\\nCame together to pass one of the most significant laws ever, helping veterans exposed to toxic burn pits.\\n\\nIn fact, I signed over 300 bipartisan laws since becoming President. From reauthorizing the Violence Against Women Act, to the Electoral Count Reform Act, to the Respect for Marriage Act that protects the right to marry the person you love.\\n\\nTo my Republican friends, if we could work together in the last Congress, there is no reason we can’t work together in this new Congress.\\n\\nThe people sent us a clear message. Fighting for the sake of fighting, power for the sake of power, conflict for the sake of conflict, gets us nowhere.\\n\\nAnd that’s always been my vision for our country.\\n\\nTo restore the soul of the nation.\\n\\nTo rebuild the backbone of America, the middle class.\\n\\nTo unite the country.\\n\\nWe’ve been sent here to finish the job.\\n\\nFor decades, the middle class was hollowed out.\\n\\nToo many good-paying manufacturing jobs moved overseas. Factories at home closed down.\\n\\nOnce-thriving cities and towns became shadows of what they used to be.\\n\\nAnd along the way, something else was lost.\\n\\nPride. That sense of self-worth.\\n\\nI ran for President to fundamentally change things, to make sure the economy works for everyone so we can all feel pride in what we do.\\n\\nTo build an economy from the bottom up and the middle out, not from the top down. Because when the middle class does well, the poor have a ladder up and the wealthy still do very well. We all do well.\\n\\nAs my Dad used to say, a job is about a lot more than a paycheck. It’s about your dignity. It’s about respect. It’s about being able to look your kid in the eye and say, “Honey –it’s going to be OK,” and mean it.\\n\\nSo, let’s look at the results. Unemployment rate at 3.4%, a 50-year low. Near record low unemployment for Black and Hispanic workers.\\n\\nWe’ve already created 800,000 good-paying manufacturing jobs, the fastest growth in 40 years.\\n\\nWhere is it written that America can’t lead the world in manufacturing again?\\n\\nFor too many decades, we imported products and exported jobs.\\n\\nNow, thanks to all we’ve done, we’re exporting American products and creating American jobs.\\n\\nInflation has been a global problem because of the pandemic that disrupted supply chains and Putin’s war that disrupted energy and food supplies.\\n\\nBut we’re better positioned than any country on Earth.\\n\\nWe have more to do, but here at home, inflation is coming down.\\n\\nHere at home, gas prices are down $1.50 a gallon since their peak.\\n\\nFood inflation is coming down.\\n\\nInflation has fallen every month for the last six months while take home pay has gone up.\\n\\nAdditionally, over the last two years, a record 10 million Americans applied to start a new small business.\\n\\nEvery time somebody starts a small business, it’s an act of hope.\\n\\nAnd the Vice President will continue her work to ensure more small businesses can access capital and the historic laws we enacted.\\n\\nStanding here last year, I shared with you a story of American genius and possibility.\\n\\nSemiconductors, the small computer chips the size of your fingertip that power everything from cellphones to automobiles, and so much more. These chips were invented right here in America.\\n\\nAmerica used to make nearly 40% of the world’s chips.\\n\\nBut in the last few decades, we lost our edge and we’re down to producing only 10%. We all saw what happened during the pandemic when chip factories overseas shut down.\\n\\nToday’s automobiles need up to 3,000 chips each, but American automakers couldn’t make enough cars because there weren’t enough chips.\\n\\nCar prices went up. So did everything from refrigerators to cellphones.\\n\\nWe can never let that happen again.\\n\\nThat’s why we came together to pass the bipartisan CHIPS and Science Act.\\n\\nWe’re making sure the supply chain for America begins in America.\\n\\nWe’ve already created 800,000 manufacturing jobs even without this law.\\n\\nWith this new law, we will create hundreds of thousands of new jobs across the country.\\n\\nThat’s going to come from companies that have announced more than $300 billion in investments in American manufacturing in the last two years.\\n\\nOutside of Columbus, Ohio, Intel is building semiconductor factories on a thousand acres – a literal field of dreams.\\n\\nThat’ll create 10,000 jobs. 7,000 construction jobs. 3,000 jobs once the factories are finished.\\n\\nJobs paying $130,000 a year, and many don’t require a college degree.\\n\\nJobs where people don’t have to leave home in search of opportunity.\\n\\nAnd it’s just getting started.\\n\\nThink about the new homes, new small businesses, and so much more that will come to life.\\n\\nTalk to mayors and Governors, Democrats and Republicans, and they’ll tell you what this means to their communities.\\n\\nWe’re seeing these fields of dreams transform the heartland.\\n\\nBut to maintain the strongest economy in the world, we also need the best infrastructure in the world.\\n\\nWe used to be #1 in the world in infrastructure, then we fell to #13th.\\n\\nNow we’re coming back because we came together to pass the Bipartisan Infrastructure Law, the largest investment in infrastructure since President Eisenhower’s Interstate Highway System.\\n\\nAlready, we’ve funded over 20,000 projects, including at major airports from Boston to Atlanta to Portland.\\n\\nThese projects will put hundreds of thousands of people to work rebuilding our highways, bridges, railroads, tunnels, ports and airports, clean water, and high-speed internet across America.\\n\\nUrban. Suburban. Rural. Tribal.\\n\\nAnd we’re just getting started. I sincerely thank my Republican friends who voted for the law.\\n\\nAnd to my Republican friends who voted against it but still ask to fund projects in their districts, don’t worry.\\n\\nI promised to be the president for all Americans.\\n\\nWe’ll fund your projects. And I’ll see you at the ground-breaking.\\n\\nThis law will help further unite all of America.\\n\\nMajor projects like the Brent Spence bridge between Kentucky and Ohio over the Ohio River. Built 60 years ago. Badly in need of repairs.\\n\\nOne of the nation’s most congested freight routes carrying $2 billion worth of freight every day. Folks have been talking about fixing it for decades, but we’re finally going to get it done.\\n\\nI went there last month with Democrats and Republicans from both states to deliver $1.6 billion for this project.\\n\\nWhile I was there, I met an ironworker named Sara, who is here tonight.\\n\\nFor 30 years, she’s been a proud member of Ironworkers Local 44, known as the “cowboys of the sky” who built the Cincinnati skyline.\\n\\nSara said she can’t wait to be ten stories above the Ohio River building that new bridge. That’s pride.\\n\\nThat’s what we’re also building – Pride.\\n\\nWe’re also replacing poisonous lead pipes that go into 10 million homes and 400,000 schools and childcare centers, so every child in America can drink clean water.\\n\\nWe’re making sure that every community has access to affordable, high-speed internet.\\n\\nNo parent should have to drive to a McDonald’s parking lot so their kid can do their homework online.\\n\\nAnd when we do these projects, we’re going to Buy American.\\n\\nBuy American has been the law of the land since 1933. But for too long, past administrations have found ways to get around it.\\n\\nNot anymore.\\n\\nTonight, I’m also announcing new standards to require all construction materials used in federal infrastructure projects to be made in America.\\n\\nAmerican-made lumber, glass, drywall, fiber optic cables.\\n\\nAnd on my watch, American roads, American bridges, and American highways will be made with American products.\\n\\nMy economic plan is about investing in places and people that have been forgotten. Amid the economic upheaval of the past four decades, too many people have been left behind or treated like they’re invisible.\\n\\nMaybe that’s you, watching at home.\\n\\nYou remember the jobs that went away. And you wonder whether a path even exists anymore for you and your children to get ahead without moving away.\\n\\nI get it.\\n\\nThat’s why we’re building an economy where no one is left behind.\\n\\nJobs are coming back, pride is coming back, because of the choices we made in the last two years. This is a blue-collar blueprint to rebuild America and make a real difference in your lives.\\n\\nFor example, too many of you lay in bed at night staring at the ceiling, wondering what will happen if your spouse gets cancer, your child gets sick, or if something happens to you.\\n\\nWill you have the money to pay your medical bills? Will you have to sell the house?\\n\\nI get it. With the Inflation Reduction Act that I signed into law, we’re taking on powerful interests to bring your health care costs down so you can sleep better at night.\\n\\nYou know, we pay more for prescription drugs than any major country on Earth.\\n\\nFor example, one in ten Americans has diabetes.\\n\\nEvery day, millions need insulin to control their diabetes so they can stay alive. Insulin has been around for 100 years. It costs drug companies just $10 a vial to make.\\n\\nBut, Big Pharma has been unfairly charging people hundreds of dollars – and making record profits.\\n\\nNot anymore.\\n\\nWe capped the cost of insulin at $35 a month for seniors on Medicare.\\n\\nBut there are millions of other Americans who are not on Medicare, including 200,000 young people with Type I diabetes who need insulin to save their lives.\\n\\nLet’s finish the job this time.\\n\\nLet’s cap the cost of insulin at $35 a month for every American who needs it.\\n\\nThis law also caps out-of-pocket drug costs for seniors on Medicare at a maximum $2,000 per year when there are in fact many drugs, like expensive cancer drugs, that can cost up to $10,000, $12,000, and $14,000 a year.\\n\\nIf drug prices rise faster than inflation, drug companies will have to pay Medicare back the difference.\\n\\nAnd we’re finally giving Medicare the power to negotiate drug prices. Bringing down prescription drug costs doesn’t just save seniors money.\\n\\nIt will cut the federal deficit, saving tax payers hundreds of billions of dollars on the prescription drugs the government buys for Medicare.\\n\\nWhy wouldn’t we want to do that?\\n\\nNow, some members here are threatening to repeal the Inflation Reduction Act.\\n\\nMake no mistake, if you try to do anything to raise the cost of prescription drugs, I will veto it.\\n\\nI’m pleased to say that more Americans have health insurance now than ever in history.\\n\\nA record 16 million people are enrolled under the Affordable Care Act.\\n\\nThanks to the law I signed last year, millions are saving $800 a year on their premiums.\\n\\nBut the way that law was written, that benefit expires after 2025.\\n\\nLet’s finish the job, make those savings permanent, and expand coverage to those left off Medicaid.\\n\\nLook, the Inflation Reduction Act is also the most significant investment ever to tackle the climate crisis.\\n\\nLowering utility bills, creating American jobs, and leading the world to a clean energy future.\\n\\nI’ve visited the devastating aftermaths of record floods and droughts, storms and wildfires.\\n\\nIn addition to emergency recovery from Puerto Rico to Florida to Idaho, we are rebuilding for the long term.\\n\\nNew electric grids able to weather the next major storm.\\n\\nRoads and water systems to withstand the next big flood.\\n\\nClean energy to cut pollution and create jobs in communities too often left behind.\\n\\nWe’re building 500,000 electric vehicle charging stations installed across the country by tens of thousands of IBEW workers.\\n\\nAnd helping families save more than $1,000 a year with tax credits for the purchase of electric vehicles and energy-efficient appliances.\\n\\nHistoric conservation efforts to be responsible stewards of our lands.\\n\\nLet’s face reality.\\n\\nThe climate crisis doesn’t care if your state is red or blue. It is an existential threat.\\n\\nWe have an obligation to our children and grandchildren to confront it. I’m proud of how America is at last stepping up to the challenge.\\n\\nBut there’s so much more to do.\\n\\nWe will finish the job.\\n\\nAnd we pay for these investments in our future by finally making the wealthiest and the biggest corporations begin to pay their fair share.\\n\\nI’m a capitalist. But just pay your fair share.\\n\\nAnd I think a lot of you at home agree with me that our present tax system is simply unfair.\\n\\nThe idea that in 2020, 55 of the biggest companies in America made $40 billion in profits and paid zero in federal income taxes?\\n\\nThat’s simply not fair.\\n\\nBut now, because of the law I signed, billion-dollar companies have to pay a minimum of 15%.\\n\\nJust 15%.\\n\\nThat’s less than a nurse pays. Let me be clear.\\n\\nUnder my plan, nobody earning less than $400,000 a year will pay an additional penny in taxes.\\n\\nNobody. Not one penny.\\n\\nBut there’s more to do.\\n\\nLet’s finish the job. Reward work, not just wealth. Pass my proposal for a billionaire minimum tax.\\n\\nBecause no billionaire should pay a lower tax rate than a school teacher or a firefighter.\\n\\nYou may have noticed that Big Oil just reported record profits.\\n\\nLast year, they made $200 billion in the midst of a global energy crisis.\\n\\nIt’s outrageous.\\n\\nThey invested too little of that profit to increase domestic production and keep gas prices down.\\n\\nInstead, they used those record profits to buy back their own stock, rewarding their CEOs and shareholders.\\n\\nCorporations ought to do the right thing.\\n\\nThat’s why I propose that we quadruple the tax on corporate stock buybacks to encourage long term investments instead.\\n\\nThey will still make a considerable profit.\\n\\nLet’s finish the job and close the loopholes that allow the very wealthy to avoid paying their taxes.\\n\\nInstead of cutting the number of audits of wealthy tax payers, I signed a law that will reduce the deficit by $114 billion by cracking down on wealthy tax cheats.\\n\\nThat’s being fiscally responsible.\\n\\nIn the last two years, my administration cut the deficit by more than $1.7 trillion – the largest deficit reduction in American history.\\n\\nUnder the previous administration, America’s deficit went up four years in a row.\\n\\nBecause of those record deficits, no president added more to the national debt in any four years than my predecessor.\\n\\nNearly 25% of the entire national debt, a debt that took 200 years to accumulate, was added by that administration alone.\\n\\nHow did Congress respond to all that debt?\\n\\nThey lifted the debt ceiling three times without preconditions or crisis.\\n\\nThey paid America’s bills to prevent economic disaster for our country.\\n\\nTonight, I’m asking this Congress to follow suit.\\n\\nLet us commit here tonight that the full faith and credit of the United States of America will never, ever be questioned.\\n\\nSome of my Republican friends want to take the economy hostage unless I agree to their economic plans. All of you at home should know what their plans are.\\n\\nInstead of making the wealthy pay their fair share, some Republicans want Medicare and Social Security to sunset every five years.\\n\\nThat means if Congress doesn’t vote to keep them, those programs will go away.\\n\\nOther Republicans say if we don’t cut Social Security and Medicare, they’ll let America default on its debt for the first time in our history.\\n\\nI won’t let that happen.\\n\\nSocial Security and Medicare are a lifeline for millions of seniors.\\n\\nAmericans have been paying into them with every single paycheck since they started working.\\n\\nSo tonight, let’s all agree to stand up for seniors. Stand up and show them we will not cut Social Security. We will not cut Medicare.\\n\\nThose benefits belong to the American people. They earned them.\\n\\nIf anyone tries to cut Social Security, I will stop them. And if anyone tries to cut Medicare, I will stop them.\\n\\nI will not allow them to be taken away.\\n\\nNot today. Not tomorrow. Not ever.\\n\\nNext month when I offer my fiscal plan, I ask my Republican friends to offer their plan.\\n\\nWe can sit down together and discuss both plans together.\\n\\nMy plan will lower the deficit by $2 trillion.\\n\\nI won’t cut a single Social Security or Medicare benefit.\\n\\nIn fact, I will extend the Medicare Trust Fund by at least two decades.\\n\\nI will not raise taxes on anyone making under $400,000 a year. And I will pay for the ideas I’ve talked about tonight by making the wealthy and big corporations begin to pay their fair share.\\n\\nLook, here’s the deal. Big corporations aren’t just taking advantage of the tax code. They’re taking advantage of you, the American consumer.\\n\\nHere’s my message to all of you out there: I have your back. We’re already preventing insurance companies from sending surprise medical bills, stopping 1 million surprise bills a month.\\n\\nWe’re protecting seniors’ lives and life savings by cracking down on nursing homes that commit fraud, endanger patient safety, or prescribe drugs they don’t need.\\n\\nMillions of Americans can now save thousands of dollars because they can finally get hearing aids over-the-counter without a prescription.\\n\\nCapitalism without competition is not capitalism. It is exploitation.\\n\\nLast year I cracked down on foreign shipping companies that were making you pay higher prices for everyday goods coming into our country.\\n\\nI signed a bipartisan bill that cut shipping costs by 90%, helping American farmers, businesses, and consumers.\\n\\nLet’s finish the job.\\n\\nPass bipartisan legislation to strengthen antitrust enforcement and prevent big online platforms from giving their own products an unfair advantage.\\n\\nMy administration is also taking on “junk” fees, those hidden surcharges too many businesses use to make you pay more.\\n\\nFor example, we’re making airlines show you the full ticket price upfront and refund your money if your flight is cancelled or delayed.\\n\\nWe’ve reduced exorbitant bank overdraft fees, saving consumers more than $1 billion a year.\\n\\nWe’re cutting credit card late fees by 75%, from $30 to $8.\\n\\nJunk fees may not matter to the very wealthy, but they matter to most folks in homes like the one I grew up in. They add up to hundreds of dollars a month.\\n\\nThey make it harder for you to pay the bills or afford that family trip.\\n\\nI know how unfair it feels when a company overcharges you and gets away with it.\\n\\nNot anymore.\\n\\nWe’ve written a bill to stop all that. It’s called the Junk Fee Prevention Act.\\n\\nWe’ll ban surprise “resort fees” that hotels tack on to your bill. These fees can cost you up to $90 a night at hotels that aren’t even resorts.\\n\\nWe’ll make cable internet and cellphone companies stop charging you up to $200 or more when you decide to switch to another provider.\\n\\nWe’ll cap service fees on tickets to concerts and sporting events and make companies disclose all fees upfront.\\n\\nAnd we’ll prohibit airlines from charging up to $50 roundtrip for families just to sit together.\\n\\nBaggage fees are bad enough – they can’t just treat your child like a piece of luggage.\\n\\nAmericans are tired of being played for suckers.\\n\\nPass the Junk Fee Prevention Act so companies stop ripping us off.\\n\\nFor too long, workers have been getting stiffed.\\n\\nNot anymore.\\n\\nWe’re beginning to restore the dignity of work.\\n\\nFor example, 30 million workers had to sign non-compete agreements when they took a job. So a cashier at a burger place can’t cross the street to take the same job at another burger place to make a couple bucks more.\\n\\nNot anymore.\\n\\nWe’re banning those agreements so companies have to compete for workers and pay them what they’re worth.\\n\\nI’m so sick and tired of companies breaking the law by preventing workers from organizing.\\n\\nPass the PRO Act because workers have a right to form a union. And let’s guarantee all workers a living wage.\\n\\nLet’s also make sure working parents can afford to raise a family with sick days, paid family and medical leave, and affordable child care that will enable millions more people to go to work.\\n\\nLet’s also restore the full Child Tax Credit, which gave tens of millions of parents some breathing room and cut child poverty in half, to the lowest level in history.\\n\\nAnd by the way, when we do all of these things, we increase productivity. We increase economic growth.\\n\\nLet’s also finish the job and get more families access to affordable and quality housing.\\n\\nLet’s get seniors who want to stay in their homes the care they need to do so. And give a little more breathing room to millions of family caregivers looking after their loved ones.\\n\\nPass my plan so we get seniors and people with disabilities the home care services they need and support the workers who are doing God’s work.\\n\\nThese plans are fully paid for and we can afford to do them.\\n\\nRestoring the dignity of work also means making education an affordable ticket to the middle class.\\n\\nWhen we made 12 years of public education universal in the last century, it made us the best-educated, best-prepared nation in the world.\\n\\nBut the world has caught up.\\n\\nJill, who teaches full-time, has an expression: “Any nation that out-educates us will out-compete us.”\\n\\nFolks, you all know 12 years is not enough to win the economic competition for the 21st Century.\\n\\nIf you want America to have the best-educated workforce, let’s finish the job by providing access to pre-school for 3- and 4-year-olds.\\n\\nStudies show that children who go to pre-school are nearly 50% more likely to finish high school and go on to earn a 2- or 4-year degree, no matter their background.\\n\\nLet’s give public school teachers a raise.\\n\\nAnd we’re making progress by reducing student debt and increasing Pell Grants for working- and middle-class families.\\n\\nLet’s finish the job, connect students to career opportunities starting in high school and provide two years of community college, some of the best career training in America, in addition to being a pathway to a four-year degree.\\n\\nLet’s offer every American the path to a good career whether they go to college or not.\\n\\nAnd folks, in the midst of the COVID crisis when schools were closed, let’s also recognize how far we’ve come in the fight against the pandemic itself.\\n\\nWhile the virus is not gone, thanks to the resilience of the American people, we have broken COVID’s grip on us.\\n\\nCOVID deaths are down nearly 90%.\\n\\nWe’ve saved millions of lives and opened our country back up.\\n\\nAnd soon we’ll end the public health emergency.\\n\\nBut we will remember the toll and pain that will never go away for so many. More than 1 million Americans have lost their lives to COVID.\\n\\nFamilies grieving. Children orphaned. Empty chairs at the dining room table.\\n\\nWe remember them, and we remain vigilant.\\n\\nWe still need to monitor dozens of variants and support new vaccines and treatments.\\n\\nSo Congress needs to fund these efforts and keep America safe.\\n\\nAnd as we emerge from this crisis stronger, I’m also doubling down on prosecuting criminals who stole relief money meant to keep workers and small businesses afloat during the pandemic.\\n\\nBefore I came to office many inspector generals who protect taxpayer dollars were sidelined. Fraud was rampant.\\n\\nLast year, I told you the watchdogs are back. Since then, we’ve recovered billions of taxpayer dollars.\\n\\nNow, let’s triple our anti-fraud strike forces going after these criminals, double the statute of limitations on these crimes, and crack down on identity fraud by criminal syndicates stealing billions of dollars from the American people.\\n\\nFor every dollar we put into fighting fraud, taxpayers get back at least ten times as much.\\n\\nCOVID left other scars, like the spike in violent crime in 2020, the first year of the pandemic.\\n\\nWe have an obligation to make sure all our people are safe.\\n\\nPublic safety depends on public trust. But too often that trust is violated.\\n\\nJoining us tonight are the parents of Tyre Nichols, who had to bury him just last week. There are no words to describe the heartbreak and grief of losing a child.\\n\\nBut imagine what it’s like to lose a child at the hands of the law.\\n\\nImagine having to worry whether your son or daughter will come home from walking down the street or playing in the park or just driving their car.\\n\\nI’ve never had to have the talk with my children – Beau, Hunter, and Ashley – that so many Black and Brown families have had with their children.\\n\\nIf a police officer pulls you over, turn on your interior lights. Don’t reach for your license. Keep your hands on the steering wheel.\\n\\nImagine having to worry like that every day in America.\\n\\nHere’s what Tyre’s mom shared with me when I asked her how she finds the courage to carry on and speak out.\\n\\nWith faith in God, she said her son “was a beautiful soul and something good will come from this.”\\n\\nImagine how much courage and character that takes.\\n\\nIt’s up to us. It’s up to all of us.\\n\\nWe all want the same thing.\\n\\nNeighborhoods free of violence.\\n\\nLaw enforcement who earn the community’s trust.\\n\\nOur children to come home safely.\\n\\nEqual protection under the law; that’s the covenant we have with each other in America.\\n\\nAnd we know police officers put their lives on the line every day, and we ask them to do too much.\\n\\nTo be counselors, social workers, psychologists; responding to drug overdoses, mental health crises, and more.\\n\\nWe ask too much of them.\\n\\nI know most cops are good, decent people. They risk their lives every time they put on that shield.\\n\\nBut what happened to Tyre in Memphis happens too often.\\n\\nWe have to do better.\\n\\nGive law enforcement the training they need, hold them to higher standards, and help them succeed in keeping everyone safe.\\n\\nWe also need more first responders and other professionals to address growing mental health and substance abuse challenges.\\n\\nMore resources to reduce violent crime and gun crime; more community intervention programs; more investments in housing, education, and job training.\\n\\nAll this can help prevent violence in the first place.\\n\\nAnd when police officers or departments violate the public’s trust, we must hold them accountable.\\n\\nWith the support of families of victims, civil rights groups, and law enforcement, I signed an executive order for all federal officers banning chokeholds, restricting no-knock warrants, and other key elements of the George Floyd Act.\\n\\nLet’s commit ourselves to make the words of Tyre’s mother come true, something good must come from this.\\n\\nAll of us in this chamber, we need to rise to this moment.\\n\\nWe can’t turn away.\\n\\nLet’s do what we know in our hearts we need to do.\\n\\nLet’s come together and finish the job on police reform.\\n\\nDo something.\\n\\nThat was the same plea of parents who lost their children in Uvalde: Do something on gun violence.\\n\\nThank God we did, passing the most sweeping gun safety law in three decades.\\n\\nThat includes things that the majority of responsible gun owners support, like enhanced background checks for 18 to 21-year-olds and red flag laws keeping guns out of the hands of people who are a danger to themselves and others.\\n\\nBut we know our work is not done.\\n\\nJoining us tonight is Brandon Tsay, a 26-year-old hero.\\n\\nBrandon put off his college dreams to stay by his mom’s side as she was dying from cancer. He now works at a dance studio started by his grandparents.\\n\\nTwo weeks ago, during Lunar New Year celebrations, he heard the studio’s front door close and saw a man pointing a gun at him.\\n\\nHe thought he was going to die, but then he thought about the people inside.\\n\\nIn that instant, he found the courage to act and wrestled the semi-automatic pistol away from a gunman who had already killed 11 people at another dance studio.\\n\\nHe saved lives. It’s time we do the same as well.\\n\\nBan assault weapons once and for all.\\n\\nWe did it before. I led the fight to ban them in 1994.\\n\\nIn the 10 years the ban was law, mass shootings went down. After Republicans let it expire, mass shootings tripled.\\n\\nLet’s finish the job and ban assault weapons again.\\n\\nAnd let’s also come together on immigration and make it a bipartisan issue like it was before.\\n\\nWe now have a record number of personnel working to secure the border, arresting 8,000 human smugglers and seizing over 23,000 pounds of fentanyl in just the last several months.\\n\\nSince we launched our new border plan last month, unlawful migration from Cuba, Haiti, Nicaragua, and Venezuela has come down 97%.\\n\\nBut America’s border problems won’t be fixed until Congress acts.\\n\\nIf you won’t pass my comprehensive immigration reform, at least pass my plan to provide the equipment and officers to secure the border. And a pathway to citizenship for Dreamers, those on temporary status, farm workers, and essential workers.\\n\\nHere in the people’s House, it’s our duty to protect all the people’s rights and freedoms.\\n\\nCongress must restore the right the Supreme Court took away last year and codify Roe v. Wade to protect every woman’s constitutional right to choose.\\n\\nThe Vice President and I are doing everything we can to protect access to reproductive health care and safeguard patient privacy. But already, more than a dozen states are enforcing extreme abortion bans.\\n\\nMake no mistake; if Congress passes a national abortion ban, I will veto it.\\n\\nLet’s also pass the bipartisan Equality Act to ensure LGBTQ Americans, especially transgender young people, can live with safety and dignity.\\n\\nOur strength is not just the example of our power, but the power of our example. Let’s remember the world is watching.\\n\\nI spoke from this chamber one year ago, just days after Vladimir Putin unleashed his brutal war against Ukraine.\\n\\nA murderous assault, evoking images of the death and destruction Europe suffered in World War II.\\n\\nPutin’s invasion has been a test for the ages. A test for America. A test for the world.\\n\\nWould we stand for the most basic of principles?\\n\\nWould we stand for sovereignty?\\n\\nWould we stand for the right of people to live free from tyranny?\\n\\nWould we stand for the defense of democracy?\\n\\nFor such a defense matters to us because it keeps the peace and prevents open season for would-be aggressors to threaten our security and prosperity. One year later, we know the answer.\\n\\nYes, we would.\\n\\nAnd yes, we did.\\n\\nTogether, we did what America always does at our best.\\n\\nWe led.\\n\\nWe united NATO and built a global coalition.\\n\\nWe stood against Putin’s aggression.\\n\\nWe stood with the Ukrainian people.\\n\\nTonight, we are once again joined by Ukraine’s Ambassador to the United States. She represents not just her nation, but the courage of her people.\\n\\nAmbassador, America is united in our support for your country. We will stand with you as long as it takes.\\n\\nOur nation is working for more freedom, more dignity, and more peace,\\nnot just in Europe, but everywhere.\\n\\nBefore I came to office, the story was about how the People’s Republic of China was increasing its power and America was falling in the world.\\n\\nNot anymore.\\n\\nI’ve made clear with President Xi that we seek competition, not conflict.\\n\\nI will make no apologies that we are investing to make America strong. Investing in American innovation, in industries that will define the future, and that China’s government is intent on dominating.\\n\\nInvesting in our alliances and working with our allies to protect our advanced technologies so they’re not used against us.\\n\\nModernizing our military to safeguard stability and deter aggression.\\n\\nToday, we’re in the strongest position in decades to compete with China or anyone else in the world.\\n\\nI am committed to work with China where it can advance American interests and benefit the world.\\n\\nBut make no mistake: as we made clear last week, if China’s threatens our sovereignty, we will act to protect our country. And we did.\\n\\nAnd let’s be clear: winning the competition with China should unite all of us. We face serious challenges across the world.\\n\\nBut in the past two years, democracies have become stronger, not weaker.\\n\\nAutocracies have grown weaker, not stronger.\\n\\nAmerica is rallying the world again to meet those challenges, from climate and global health, to food insecurity, to terrorism and territorial aggression.\\n\\nAllies are stepping up, spending more and doing more.\\n\\nAnd bridges are forming between partners in the Pacific and those in the Atlantic. And those who bet against America are learning just how wrong they are.\\n\\nIt’s never a good bet to bet against America.\\n\\nWhen I came to office, most everyone assumed bipartisanship was impossible. But I never believed it.\\n\\nThat’s why a year ago, I offered a Unity Agenda for the nation.\\n\\nWe’ve made real progress.\\n\\nTogether, we passed a law making it easier for doctors to prescribe effective treatments for opioid addiction.\\n\\nPassed a gun safety law making historic investments in mental health.\\n\\nLaunched ARPA-H to drive breakthroughs in the fight against cancer,\\nAlzheimer’s, diabetes, and so much more.\\n\\nWe passed the Heath Robinson PACT Act, named for the late Iraq war veteran whose story about exposure to toxic burn pits I shared here last year.\\n\\nBut there is so much more to do. And we can do it together.\\n\\nJoining us tonight is a father named Doug from Newton, New Hampshire.\\n\\nHe wrote Jill and me a letter about his daughter Courtney. Contagious laugh. Her sister’s best friend.\\n\\nHe shared a story all too familiar to millions of Americans.\\n\\nCourtney discovered pills in high school. It spiraled into addiction and eventually her death from a fentanyl overdose.\\n\\nShe was 20 years old.\\n\\nDescribing the last eight years without her, Doug said, “There is no worse pain.”\\n\\nYet their family has turned pain into purpose, working to end stigma and change laws.\\n\\nHe told us he wants to “start the journey towards America’s recovery.”\\n\\nDoug, we’re with you.\\n\\nFentanyl is killing more than 70,000 Americans a year.\\n\\nLet’s launch a major surge to stop fentanyl production, sale, and trafficking, with more drug detection machines to inspect cargo and stop pills and powder at the border.\\n\\nWorking with couriers like Fed Ex to inspect more packages for drugs. Strong penalties to crack down on fentanyl trafficking.\\n\\nSecond, let’s do more on mental health, especially for our children. When millions of young people are struggling with bullying, violence, trauma, we owe them greater access to mental health care at school.\\n\\nWe must finally hold social media companies accountable for the experiment they are running on our children for profit.\\n\\nAnd it’s time to pass bipartisan legislation to stop Big Tech from collecting personal data on kids and teenagers online, ban targeted advertising to children, and impose stricter limits on the personal data these companies collect on all of us.\\n\\nThird, let’s do more to keep our nation’s one truly sacred obligation: to equip those we send into harm’s way and care for them and their families when they come home.\\n\\nJob training and job placement for veterans and their spouses as they return to civilian life.\\n\\nHelping veterans afford their rent because no one should be homeless in this country, especially not those who served it.\\n\\nAnd we cannot go on losing 17 veterans a day to the silent scourge of suicide.\\n\\nThe VA is doing everything it can, including expanding mental health screenings and a proven program that recruits veterans to help other veterans understand what they’re going through and get the help they need.\\n\\nAnd fourth, last year Jill and I re-ignited the Cancer Moonshot that President Obama asked me to lead in our Administration.\\n\\nOur goal is to cut the cancer death rate by at least 50% over the next 25 years. Turn more cancers from death sentences into treatable diseases. And provide more support for patients and families.\\n\\nIt’s personal for so many of us.\\n\\nJoining us are Maurice and Kandice, an Irishman and a daughter of immigrants from Panama.\\n\\nThey met and fell in love in New York City and got married in the same chapel as Jill and I did.\\n\\nKindred spirits.\\n\\nHe wrote us a letter about their little daughter Ava.\\n\\nShe was just a year old when she was diagnosed with a rare kidney cancer.\\n\\n26 blood transfusions. 11 rounds of radiation. 8 rounds of chemo. 1 kidney removed.\\n\\nA 5% survival rate.\\n\\nHe wrote how in the darkest moments he thought, “if she goes, I can’t stay.”\\n\\nJill and I understand, like so many of you.\\n\\nThey read how Jill described our family’s cancer journey and how we tried to steal moments of joy where you can.\\n\\nFor them, that glimmer of joy was a half-smile from their baby girl. It meant everything.\\n\\nThey never gave up hope.\\n\\nAva never gave up hope. She turns four next month.\\n\\nThey just found out that Ava beat the odds and is on her way to being cancer free, and she’s watching from the White House tonight.\\n\\nFor the lives we can save and for the lives we have lost, let this be a truly American moment that rallies the country and the world together and proves that we can do big things.\\n\\nTwenty years ago, under the leadership of President Bush and countless advocates and champions, we undertook a bipartisan effort through PEPFAR to transform the global fight against HIV/AIDS. It’s been a huge success.\\n\\nI believe we can do the same with cancer.\\n\\nLet’s end cancer as we know it and cure some cancers once and for all.\\n\\nThere’s one reason why we’re able to do all of these things: our democracy itself.\\n\\nIt’s the most fundamental thing of all.\\n\\nWith democracy, everything is possible. Without it, nothing is.\\n\\nFor the last few years our democracy has been threatened, attacked, and put at risk.\\n\\nPut to the test here, in this very room, on January 6th.\\n\\nAnd then, just a few months ago, unhinged by the Big Lie, an assailant unleashed political violence in the home of the then-Speaker of this House of Representatives. Using the very same language that insurrectionists who stalked these halls chanted on January 6th.\\n\\nHere tonight in this chamber is the man who bears the scars of that brutal attack, but is as tough and strong and as resilient as they get.\\n\\nMy friend, Paul Pelosi.\\n\\nBut such a heinous act never should have happened.\\n\\nWe must all speak out. There is no place for political violence in America. In America, we must protect the right to vote, not suppress that fundamental right. We honor the results of our elections, not subvert the will of the people. We must uphold the rule of the law and restore trust in our institutions of democracy.\\n\\nAnd we must give hate and extremism in any form no safe harbor.\\n\\nDemocracy must not be a partisan issue. It must be an American issue.\\n\\nEvery generation of Americans has faced a moment where they have been called on to protect our democracy, to defend it, to stand up for it.\\n\\nAnd this is our moment.\\n\\nMy fellow Americans, we meet tonight at an inflection point. One of those moments that only a few generations ever face, where the decisions we make now will decide the course of this nation and of the world for decades to come.\\n\\nWe are not bystanders to history. We are not powerless before the forces that confront us. It is within our power, of We the People. We are facing the test of our time and the time for choosing is at hand.\\n\\nWe must be the nation we have always been at our best. Optimistic. Hopeful. Forward-looking.\\n\\nA nation that embraces, light over darkness, hope over fear, unity over division. Stability over chaos.\\n\\nWe must see each other not as enemies, but as fellow Americans. We are a good people, the only nation in the world built on an idea.\\n\\nThat all of us, every one of us, is created equal in the image of God. A nation that stands as a beacon to the world. A nation in a new age of possibilities.\\n\\nSo I have come here to fulfil my constitutional duty to report on the state of the union. And here is my report.\\n\\nBecause the soul of this nation is strong, because the backbone of this nation is strong, because the people of this nation are strong, the State of the Union is strong.\\n\\nAs I stand here tonight, I have never been more optimistic about the future of America. We just have to remember who we are.\\n\\nWe are the United States of America and there is nothing, nothing\\nbeyond our capacity if we do it together.\\n\\nMay God bless you all. May God protect our troops.', metadata={'source': '2023-state-of-the-union.txt'})]\n"
     ]
    }
   ],
   "source": [
    "from langchain.document_loaders import TextLoader\n",
    "from langchain.text_splitter import RecursiveCharacterTextSplitter\n",
    "from langchain.embeddings.openai import OpenAIEmbeddings\n",
    "from langchain.vectorstores import Chroma\n",
    "from langchain.chains import RetrievalQA\n",
    "\n",
    "loader = TextLoader(\"2023-state-of-the-union.txt\")\n",
    "documents = loader.load()\n",
    "print(documents)"
   ]
  },
  {
   "cell_type": "code",
   "execution_count": 46,
   "metadata": {},
   "outputs": [
    {
     "name": "stdout",
     "output_type": "stream",
     "text": [
      "page_content='The United States Capitol\\n\\nMr. Speaker. Madam Vice President. Our First Lady and Second Gentleman.\\n\\nMembers of Congress and the Cabinet. Leaders of our military.\\n\\nMr. Chief Justice, Associate Justices, and retired Justices of the Supreme Court.\\n\\nAnd you, my fellow Americans.\\n\\nI start tonight by congratulating the members of the 118th Congress and the new Speaker of the House, Kevin McCarthy.\\n\\nMr. Speaker, I look forward to working together.\\n\\nI also want to congratulate the new leader of the House Democrats and the first Black House Minority Leader in history, Hakeem Jeffries.\\n\\nCongratulations to the longest serving Senate Leader in history, Mitch McConnell.\\n\\nAnd congratulations to Chuck Schumer for another term as Senate Majority Leader, this time with an even bigger majority.\\n\\nAnd I want to give special recognition to someone who I think will be considered the greatest Speaker in the history of this country, Nancy Pelosi.' metadata={'source': '2023-state-of-the-union.txt'}\n",
      "page_content='And I want to give special recognition to someone who I think will be considered the greatest Speaker in the history of this country, Nancy Pelosi.\\n\\nThe story of America is a story of progress and resilience. Of always moving forward. Of never giving up.\\n\\nA story that is unique among all nations.\\n\\nWe are the only country that has emerged from every crisis stronger than when we entered it.\\n\\nThat is what we are doing again.\\n\\nTwo years ago, our economy was reeling.\\n\\nAs I stand here tonight, we have created a record 12 million new jobs, more jobs created in two years than any president has ever created in four years.\\n\\nTwo years ago, COVID had shut down our businesses, closed our schools, and robbed us of so much.\\n\\nToday, COVID no longer controls our lives.\\n\\nAnd two years ago, our democracy faced its greatest threat since the Civil War.\\n\\nToday, though bruised, our democracy remains unbowed and unbroken.' metadata={'source': '2023-state-of-the-union.txt'}\n"
     ]
    }
   ],
   "source": [
    "# Splits recursively first on \\n\\n, then \\n, and then \" \"\n",
    "text_splitter = RecursiveCharacterTextSplitter(chunk_size=1000, chunk_overlap=200)\n",
    "texts = text_splitter.split_documents(documents=documents)\n",
    "\n",
    "print(texts[0])\n",
    "print(texts[1])"
   ]
  },
  {
   "cell_type": "code",
   "execution_count": 47,
   "metadata": {},
   "outputs": [],
   "source": [
    "# \"Relatedness\" embeddings: semantic, etc\n",
    "embeddings = OpenAIEmbeddings()"
   ]
  },
  {
   "cell_type": "code",
   "execution_count": 48,
   "metadata": {},
   "outputs": [],
   "source": [
    "# Chroma is an Open Source vector database (embedding database)\n",
    "store = Chroma.from_documents(texts, embeddings, collection_name=\"state-of-the-union\")"
   ]
  },
  {
   "cell_type": "code",
   "execution_count": 49,
   "metadata": {},
   "outputs": [],
   "source": [
    "chain = RetrievalQA.from_chain_type(llm_oai, retriever=store.as_retriever())"
   ]
  },
  {
   "cell_type": "code",
   "execution_count": 50,
   "metadata": {},
   "outputs": [
    {
     "data": {
      "text/plain": [
       "' Biden talked about the Brent Spence bridge between Kentucky and Ohio, the Ironworkers Local 44 in Cincinnati, and Intel building semiconductor factories outside of Columbus, Ohio. He also mentioned the economic impact of these projects on the state of Ohio.'"
      ]
     },
     "execution_count": 50,
     "metadata": {},
     "output_type": "execute_result"
    }
   ],
   "source": [
    "chain.run(\"What did Biden talk about Ohio?\")"
   ]
  }
 ],
 "metadata": {
  "kernelspec": {
   "display_name": "Python 3",
   "language": "python",
   "name": "python3"
  },
  "language_info": {
   "codemirror_mode": {
    "name": "ipython",
    "version": 3
   },
   "file_extension": ".py",
   "mimetype": "text/x-python",
   "name": "python",
   "nbconvert_exporter": "python",
   "pygments_lexer": "ipython3",
   "version": "3.11.2"
  }
 },
 "nbformat": 4,
 "nbformat_minor": 2
}
